{
 "cells": [
  {
   "cell_type": "code",
   "execution_count": 1,
   "metadata": {
    "collapsed": true
   },
   "outputs": [],
   "source": [
    "import numpy\n",
    "import matplotlib.pyplot\n",
    "import scipy.special\n",
    "\n",
    "%matplotlib inline"
   ]
  },
  {
   "cell_type": "code",
   "execution_count": 2,
   "metadata": {
    "collapsed": true
   },
   "outputs": [],
   "source": [
    "class NeuralNetwork:\n",
    "    def __init__(self, inputNodes, hiddenNodes, outputNodes, learningRate):\n",
    "        self.iNodes = inputNodes\n",
    "        self.hNodes = hiddenNodes\n",
    "        self.oNodes = outputNodes\n",
    "        self.lRate = learningRate\n",
    "        \n",
    "        self.wih = numpy.random.normal(0.0, pow(self.hNodes, -0.5), (self.hNodes, self.iNodes))\n",
    "        self.who = numpy.random.normal(0.0, pow(self.oNodes, -0.5), (self.oNodes, self.hNodes))\n",
    "        \n",
    "        self.activationFunction = lambda x: scipy.special.expit(x)\n",
    "        \n",
    "        pass\n",
    "    \n",
    "    def train(self,inputList, targetList):\n",
    "        inputs = numpy.array(inputList,ndmin=2).T\n",
    "        targets = numpy.array(targetList, ndmin=2).T\n",
    "        \n",
    "        hiddenInputs = numpy.dot(self.wih, inputs)\n",
    "        hiddenOutputs = self.activationFunction(hiddenInputs)\n",
    "        \n",
    "        finalInputs = numpy.dot(self.who, hiddenOutputs)\n",
    "        finalOutputs = self.activationFunction(finalInputs)\n",
    "        \n",
    "        outputError = targets - finalOutputs\n",
    "        hiddenError = numpy.dot(self.who.T, outputError)\n",
    "        \n",
    "        self.who += self.lRate * numpy.dot((outputError*finalOutputs * (1.0-finalOutputs)),numpy.transpose(hiddenOutputs)) \n",
    "        self.wih += self.lRate * numpy.dot((hiddenError*hiddenOutputs*(1.0-hiddenOutputs)),numpy.transpose(inputs))\n",
    "        pass\n",
    "    \n",
    "    def query(self, inputsList):\n",
    "        #convert to array\n",
    "        inputs = numpy.array(inputsList, ndmin = 2).T\n",
    "        \n",
    "        #calculate signals to hidden layer\n",
    "        hiddenInputs = numpy.dot(self.wih,inputs)\n",
    "        #calculate the signals emerging from hidden layer\n",
    "        hiddenOutputs = self.activationFunction(hiddenInputs)\n",
    "        # calculate signals into final output layer\n",
    "        finalInputs = numpy.dot(self.who,hiddenOutputs)\n",
    "        #calculate the signals emerging from final output layer\n",
    "        finalOutputs = self.activationFunction(finalInputs)\n",
    "        \n",
    "        return finalOutputs\n",
    "    "
   ]
  },
  {
   "cell_type": "code",
   "execution_count": 3,
   "metadata": {
    "collapsed": true
   },
   "outputs": [],
   "source": [
    "inputNodes = 784\n",
    "hiddenNodes = 200\n",
    "outputNodes = 10\n",
    "# learning rate is 0.1\n",
    "learningRate = 0.1\n",
    "# create instance of neural network\n",
    "n = NeuralNetwork(inputNodes,hiddenNodes,outputNodes, learningRate)"
   ]
  },
  {
   "cell_type": "code",
   "execution_count": 4,
   "metadata": {
    "collapsed": true
   },
   "outputs": [],
   "source": [
    "trainingDataFile = open(\"C:\\\\Users\\\\Stefan\\\\Desktop\\\\mnist_train.csv\", 'r')\n",
    "trainingDataList = trainingDataFile.readlines()\n",
    "trainingDataFile.close()\n",
    "\n",
    "#all_values = trainingDataList[7].split(',')\n",
    "#image_array = numpy.asfarray(all_values[1:]).reshape((28,28))\n",
    "#matplotlib.pyplot.imshow(image_array, cmap='Greys', interpolation='None')\n",
    "epochs = 5\n",
    "for e in range(epochs):\n",
    "    for record in trainingDataList:\n",
    "        allValues = record.split(',')\n",
    "        # scale and shift the inputs\n",
    "        inputs = (numpy.asfarray(allValues[1:]) / 255.0 * 0.99) + 0.01\n",
    "        # create the target output values (all 0.01, except the desired label which is 0.99)\n",
    "        targets = numpy.zeros(outputNodes) + 0.01\n",
    "        # all_values[0] is the target label for this record\n",
    "        targets[int(allValues[0])] = 0.99\n",
    "        n.train(inputs, targets)\n",
    "        pass\n",
    "    pass"
   ]
  },
  {
   "cell_type": "code",
   "execution_count": 5,
   "metadata": {},
   "outputs": [
    {
     "name": "stdout",
     "output_type": "stream",
     "text": [
      "Performance =  0.9724\n"
     ]
    }
   ],
   "source": [
    "testingDataFile = open(\"C:\\\\Users\\\\Stefan\\\\Desktop\\\\mnist_test.csv\", 'r')\n",
    "testingDataList = testingDataFile.readlines()\n",
    "testingDataFile.close()\n",
    "\n",
    "scorecard = []\n",
    "\n",
    "#numpy.set_printoptions(suppress=True)\n",
    "#all_values = testingDataList[8].split(',')\n",
    "#image_array = numpy.asfarray(all_values[1:]).reshape((28,28))\n",
    "#matplotlib.pyplot.imshow(image_array, cmap='Greys', interpolation='None') \n",
    "#print(\"Number: \",all_values[0])\n",
    "\n",
    "\n",
    "for record in testingDataList:\n",
    "    allValue = record.split(',')\n",
    "    correctLabel = int(allValue[0])\n",
    "    inputs = (numpy.asfarray(allValue[1:]) /255.0 * 0.99) + 0.01 \n",
    "    outputs = n.query(inputs)\n",
    "    label = numpy.argmax(outputs)\n",
    "    if(label == correctLabel):\n",
    "        scorecard.append(1)\n",
    "    else:\n",
    "        scorecard.append(0)\n",
    "        pass\n",
    "    pass\n",
    "\n",
    "scorecardArray = numpy.asarray(scorecard)\n",
    "print (\"Performance = \", scorecardArray.sum() / scorecardArray.size)\n"
   ]
  },
  {
   "cell_type": "code",
   "execution_count": 13,
   "metadata": {},
   "outputs": [
    {
     "name": "stdout",
     "output_type": "stream",
     "text": [
      "The number is:  3\n"
     ]
    },
    {
     "data": {
      "text/plain": [
       "<matplotlib.image.AxesImage at 0xe3f486bf60>"
      ]
     },
     "execution_count": 13,
     "metadata": {},
     "output_type": "execute_result"
    },
    {
     "data": {
      "image/png": "[encoded data removed]",
      "text/plain": [
       "<matplotlib.figure.Figure at 0xe3f47dd400>"
      ]
     },
     "metadata": {},
     "output_type": "display_data"
    }
   ],
   "source": [
    "import scipy.misc\n",
    "imageArray = scipy.misc.imread(\"C:\\\\Users\\\\Stefan\\\\Desktop\\\\MyOwnPicture.png\",flatten = True)\n",
    "\n",
    "imageData = 255.0 - imageArray.reshape(784)\n",
    "imageData = (imageData/255.0 * 0.99) + 0.01\n",
    "\n",
    "outp = n.query(imageData)\n",
    "\n",
    "label = numpy.argmax(outp)\n",
    "\n",
    "print(\"The number is: \", label)\n",
    "\n",
    "imageD = imageData.reshape((28,28))\n",
    "matplotlib.pyplot.imshow(imageD, cmap='Greys', interpolation='None') "
   ]
  }
 ],
 "metadata": {
  "kernelspec": {
   "display_name": "Python 3",
   "language": "python",
   "name": "python3"
  },
  "language_info": {
   "codemirror_mode": {
    "name": "ipython",
    "version": 3
   },
   "file_extension": ".py",
   "mimetype": "text/x-python",
   "name": "python",
   "nbconvert_exporter": "python",
   "pygments_lexer": "ipython3",
   "version": "3.6.3"
  }
 },
 "nbformat": 4,
 "nbformat_minor": 2
}
